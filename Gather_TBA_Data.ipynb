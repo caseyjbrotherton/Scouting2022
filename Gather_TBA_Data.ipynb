{
 "cells": [
  {
   "cell_type": "markdown",
   "id": "920e0251-aa99-47a8-ab02-54e4c1d48ad1",
   "metadata": {
    "tags": []
   },
   "source": [
    "# Gather TBA Data\n",
    "\n",
    "Read an ini file regarding authorization, match and last update time.\n",
    "\n",
    "Contact TBA and download information regarding match results for all matches, OPR for all teams, and overall insights for the event.\n",
    "Save all of the information to a CSV for scouting."
   ]
  },
  {
   "cell_type": "code",
   "execution_count": 12,
   "id": "fa07dfad-56df-401e-9393-7144865580bc",
   "metadata": {},
   "outputs": [],
   "source": [
    "import configparser\n",
    "import glob\n",
    "import logging\n",
    "\n",
    "import numpy as np\n",
    "import pandas as pd\n",
    "\n",
    "import re\n",
    "import sys\n",
    "import tbaapiv3client\n",
    "from tbaapiv3client.rest import ApiException\n",
    "\n",
    "logging.basicConfig(stream=sys.stdout, level=logging.DEBUG)\n",
    "logger = logging.getLogger('Gather TBA')\n",
    "\n",
    "# Setup TBA connection\n",
    "# make call to TBA for data\n",
    "config = configparser.ConfigParser()\n",
    "config.read(r'tba.ini')\n",
    "event_key = config['TBA']['event_key']\n",
    "configuration = tbaapiv3client.Configuration(\n",
    "    host = config['TBA']['tbahost'] ,\n",
    "    api_key = { 'X-TBA-Auth-Key': config['TBA']['auth_key'] }\n",
    ")"
   ]
  },
  {
   "cell_type": "code",
   "execution_count": 13,
   "id": "24d7cb0e-7eed-4862-9dd6-5de9a86f6062",
   "metadata": {
    "tags": []
   },
   "outputs": [],
   "source": [
    "# OPR -> Offensive Power Rating\n",
    "# DPR -> Defensive Power Rating\n",
    "# CCWM -> “calculated contribution to win margin”\n",
    "df = pd.DataFrame( columns = [\"team\",\"ccwms\",\"dprs\",\"oprs\"])\n",
    "\n",
    "with tbaapiv3client.ApiClient(configuration) as api_client:\n",
    "    api_instance = tbaapiv3client.EventApi(api_client)    \n",
    "    try:\n",
    "        api_response = api_instance.get_event_op_rs(event_key ) # TODO: if modified since\n",
    "    except ApiException as e:\n",
    "        log.error(\"Calling EventApi->get_event_op_rs: %s\" % e)"
   ]
  },
  {
   "cell_type": "code",
   "execution_count": 14,
   "id": "b77908d2-c1bb-4f47-8222-a49feae2e885",
   "metadata": {
    "tags": []
   },
   "outputs": [],
   "source": [
    "result_data = api_response.to_dict()\n",
    "ccwms = result_data['ccwms']\n",
    "oprs = result_data['oprs']\n",
    "dprs = result_data['dprs']\n",
    "\n",
    "for key in oprs.keys() :\n",
    "    team = re.sub('frc','', key )\n",
    "    if ( re.match('^[0-9]+$',team) is None ):\n",
    "        logger.error ( key + \" does not match pattern expected of frc[0-9]* \")\n",
    "        raise SystemExit(\"Need to stop\")\n",
    "    df.loc[len(df)] = {'team': team, 'ccwms': ccwms[key], 'oprs': oprs[key], 'dprs': dprs[key]}\n",
    "df.to_csv('tba_oprs.csv')"
   ]
  },
  {
   "cell_type": "code",
   "execution_count": 15,
   "id": "d40dd319-a5c2-480a-8db8-ce6fd5f654b0",
   "metadata": {},
   "outputs": [],
   "source": [
    "# get_event_matches will get those who are finished, as well as matches that are just scheduled.\n",
    "# post_result_time will be \"None\" for matches that have not been played, yet.\n",
    "\n",
    "with tbaapiv3client.ApiClient(configuration) as api_client:\n",
    "    api_instance = tbaapiv3client.EventApi(api_client)    \n",
    "    try:\n",
    "        api_response = api_instance.get_event_matches(event_key ) # TODO: if modified since\n",
    "    except ApiException as e:\n",
    "        log.error(\"Calling EventApi->get_event_matches: %s\" % e )"
   ]
  },
  {
   "cell_type": "code",
   "execution_count": 16,
   "id": "fd7a421b-b52d-4401-9927-ece02b61dadf",
   "metadata": {},
   "outputs": [
    {
     "name": "stdout",
     "output_type": "stream",
     "text": [
      "WARNING:Gather TBA:A match had dq teams.  Not sure what to do with this.  Match: 18\n",
      "DEBUG:Gather TBA:{'score': 62, 'team_keys': ['frc4219', 'frc5986', 'frc2881'], 'surrogate_team_keys': [], 'dq_team_keys': ['frc5986']}\n",
      "DEBUG:Gather TBA:{'score': 55, 'team_keys': ['frc5572', 'frc8573', 'frc6377'], 'surrogate_team_keys': [], 'dq_team_keys': []}\n",
      "WARNING:Gather TBA:A match had dq teams.  Not sure what to do with this.  Match: 23\n",
      "DEBUG:Gather TBA:{'score': 18, 'team_keys': ['frc8818', 'frc5726', 'frc8879'], 'surrogate_team_keys': [], 'dq_team_keys': []}\n",
      "DEBUG:Gather TBA:{'score': 36, 'team_keys': ['frc3679', 'frc5572', 'frc5986'], 'surrogate_team_keys': [], 'dq_team_keys': ['frc5986']}\n",
      "WARNING:Gather TBA:A match had dq teams.  Not sure what to do with this.  Match: 27\n",
      "DEBUG:Gather TBA:{'score': 40, 'team_keys': ['frc8573', 'frc7088', 'frc3679'], 'surrogate_team_keys': [], 'dq_team_keys': []}\n",
      "DEBUG:Gather TBA:{'score': 24, 'team_keys': ['frc5986', 'frc8088', 'frc3545'], 'surrogate_team_keys': [], 'dq_team_keys': ['frc5986']}\n",
      "WARNING:Gather TBA:A match had dq teams.  Not sure what to do with this.  Match: 5\n",
      "DEBUG:Gather TBA:{'score': 19, 'team_keys': ['frc5986', 'frc8879', 'frc2789'], 'surrogate_team_keys': [], 'dq_team_keys': ['frc5986']}\n",
      "DEBUG:Gather TBA:{'score': 34, 'team_keys': ['frc8610', 'frc8818', 'frc2158'], 'surrogate_team_keys': [], 'dq_team_keys': []}\n",
      "WARNING:Gather TBA:A match had dq teams.  Not sure what to do with this.  Match: 56\n",
      "DEBUG:Gather TBA:{'score': 26, 'team_keys': ['frc5103', 'frc5572', 'frc8818'], 'surrogate_team_keys': [], 'dq_team_keys': ['frc8818']}\n",
      "DEBUG:Gather TBA:{'score': 26, 'team_keys': ['frc3545', 'frc3561', 'frc7312'], 'surrogate_team_keys': [], 'dq_team_keys': []}\n",
      "WARNING:Gather TBA:A match had dq teams.  Not sure what to do with this.  Match: 9\n",
      "DEBUG:Gather TBA:{'score': 25, 'team_keys': ['frc2468', 'frc8610', 'frc5986'], 'surrogate_team_keys': [], 'dq_team_keys': ['frc5986']}\n",
      "DEBUG:Gather TBA:{'score': 8, 'team_keys': ['frc8879', 'frc3545', 'frc2583'], 'surrogate_team_keys': [], 'dq_team_keys': []}\n"
     ]
    }
   ],
   "source": [
    "df = pd.DataFrame(columns=[\"match_number\", \"post_result_time\",\n",
    "                           \"red1\",\"red2\",\"red3\",\"red1_taxi\",\"red2_taxi\",\"red3_taxi\",\n",
    "                           \"red1_climb\",\"red2_climb\",\"red3_climb\",\"red_points\",\n",
    "                           \"blue1\",\"blue2\",\"blue3\",\"blue1_taxi\",\"blue2_taxi\",\"blue3_taxi\",\n",
    "                           \"blue1_climb\",\"blue2_climb\",\"blue3_climb\",\"blue_points\"])\n",
    "#print(api_response)\n",
    "for x in api_response:\n",
    "   if ( x.comp_level == \"qm\" ):\n",
    "      #only gathering scouting information for the qualifying matches.\n",
    "      if ( x.set_number != 1 ):\n",
    "        logger.warning(\"Set Number non zero, not sure what to do with this.  Match: %d\" % x.match_number)\n",
    "        logger.debug(x)\n",
    "      ra=x.alliances.to_dict()['red']\n",
    "      ba=x.alliances.to_dict()['blue']\n",
    "      red=x.score_breakdown['red']\n",
    "      blue=x.score_breakdown['blue']\n",
    "      \n",
    "      red1 = re.sub('frc','',ra['team_keys'][0])\n",
    "      red2 = re.sub('frc','',ra['team_keys'][1])\n",
    "      red3 = re.sub('frc','',ra['team_keys'][2])\n",
    "      blue1 = re.sub('frc','',ba['team_keys'][0])\n",
    "      blue2 = re.sub('frc','',ba['team_keys'][1])\n",
    "      blue3 = re.sub('frc','',ba['team_keys'][2])\n",
    "   \n",
    "      if ( ra['dq_team_keys'] or ba['dq_team_keys'] ):\n",
    "         logger.warning('A match had dq teams.  Not sure what to do with this.  Match: %d' % x.match_number)\n",
    "         logger.debug(ra)\n",
    "         logger.debug(ba)\n",
    "      df.loc[len(df)] = {'match_number' : x.match_number, 'post_result_time': x.post_result_time,\n",
    "                         'red1': red1, 'red2': red2, 'red3': red3,\n",
    "                         'red1_taxi': red['taxiRobot1'], 'red2_taxi': red['taxiRobot2'], 'red3_taxi': red['taxiRobot3'], \n",
    "                         'red1_climb': red['endgameRobot1'], 'red2_climb': red['endgameRobot2'], 'red3_climb': red['endgameRobot3'],\n",
    "                         'red_points': red['totalPoints'],\n",
    "                         'blue1': blue1, 'blue2': blue2, 'blue3': blue3,\n",
    "                         'blue1_taxi': blue['taxiRobot1'], 'blue2_taxi': blue['taxiRobot2'], 'blue3_taxi': blue['taxiRobot3'], \n",
    "                         'blue1_climb': blue['endgameRobot1'], 'blue2_climb': blue['endgameRobot2'], 'blue3_climb': blue['endgameRobot3'],\n",
    "                         'blue_points': blue['totalPoints']}\n",
    "\n",
    "df.to_csv('tba_matches.csv')"
   ]
  }
 ],
 "metadata": {
  "kernelspec": {
   "display_name": "Python 3 (ipykernel)",
   "language": "python",
   "name": "python3"
  },
  "language_info": {
   "codemirror_mode": {
    "name": "ipython",
    "version": 3
   },
   "file_extension": ".py",
   "mimetype": "text/x-python",
   "name": "python",
   "nbconvert_exporter": "python",
   "pygments_lexer": "ipython3",
   "version": "3.10.2"
  }
 },
 "nbformat": 4,
 "nbformat_minor": 5
}
