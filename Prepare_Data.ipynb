{
 "cells": [
  {
   "cell_type": "markdown",
   "id": "90a7451c-f187-464f-9d56-a98335cc6fc9",
   "metadata": {},
   "source": [
    "# Data Preparation\n",
    "\n",
    "Run all data gathering steps through standalone python scripts in order to prepare for analysis\n",
    "\n",
    "With each step in it's own notebook cell, one can be judicious about which data processing is done at which time. \n",
    "\n",
    "*For example, if wifi is not enabled, you can skip attempting to contact the blue alliance.*"
   ]
  },
  {
   "cell_type": "code",
   "execution_count": 1,
   "id": "012ede6f-b472-475a-bd1d-a072916b3386",
   "metadata": {},
   "outputs": [],
   "source": [
    "import logging\n",
    "import sys\n",
    "logging.basicConfig(stream=sys.stdout, level=logging.DEBUG)"
   ]
  },
  {
   "cell_type": "markdown",
   "id": "69f26394-2e18-4a3b-bab6-aa77cf4fdfcd",
   "metadata": {},
   "source": [
    "## Process App Data\n",
    "Read and process all data gathered from the ScoutingRadar App for matches.\n",
    "Store it in ./data for further processing"
   ]
  },
  {
   "cell_type": "code",
   "execution_count": 2,
   "id": "35bfcf79-c007-4240-a2b9-1bee2e905bf8",
   "metadata": {},
   "outputs": [
    {
     "name": "stdout",
     "output_type": "stream",
     "text": [
      "      team match        event time\n",
      "0     5613     4         Taxi   11\n",
      "3     6974     5         Taxi   15\n",
      "4     4206     6         Taxi    9\n",
      "7     7492     9         Taxi    2\n",
      "8     2158    10         Taxi    1\n",
      "...    ...   ...          ...  ...\n",
      "1432  4734    46  Start_Climb  108\n",
      "1433  2158    47  Start_Climb  176\n",
      "1436   457    50  Start_Climb  144\n",
      "1438  1164    52  Start_Climb  146\n",
      "1439  4153    53  Start_Climb  155\n",
      "\n",
      "[1311 rows x 4 columns]\n"
     ]
    }
   ],
   "source": [
    "%run ./process_app_data.py"
   ]
  },
  {
   "cell_type": "markdown",
   "id": "0e789093-5a7b-4da6-bfe4-bd7e24b87317",
   "metadata": {},
   "source": [
    "## Process The Blue Alliance Data\n",
    "\n",
    "Read and process all data from the event gathered from the blue alliance."
   ]
  },
  {
   "cell_type": "code",
   "execution_count": 3,
   "id": "04bc0e83-3a5c-4ab6-adc9-b7060953ec89",
   "metadata": {},
   "outputs": [
    {
     "name": "stdout",
     "output_type": "stream",
     "text": [
      "WARNING:Gather TBA:A match had dq teams.  Not sure what to do with this.  Match: 18\n",
      "DEBUG:Gather TBA:{'score': 62, 'team_keys': ['frc4219', 'frc5986', 'frc2881'], 'surrogate_team_keys': [], 'dq_team_keys': ['frc5986']}\n",
      "DEBUG:Gather TBA:{'score': 55, 'team_keys': ['frc5572', 'frc8573', 'frc6377'], 'surrogate_team_keys': [], 'dq_team_keys': []}\n",
      "WARNING:Gather TBA:A match had dq teams.  Not sure what to do with this.  Match: 23\n",
      "DEBUG:Gather TBA:{'score': 18, 'team_keys': ['frc8818', 'frc5726', 'frc8879'], 'surrogate_team_keys': [], 'dq_team_keys': []}\n",
      "DEBUG:Gather TBA:{'score': 36, 'team_keys': ['frc3679', 'frc5572', 'frc5986'], 'surrogate_team_keys': [], 'dq_team_keys': ['frc5986']}\n",
      "WARNING:Gather TBA:A match had dq teams.  Not sure what to do with this.  Match: 27\n",
      "DEBUG:Gather TBA:{'score': 40, 'team_keys': ['frc8573', 'frc7088', 'frc3679'], 'surrogate_team_keys': [], 'dq_team_keys': []}\n",
      "DEBUG:Gather TBA:{'score': 24, 'team_keys': ['frc5986', 'frc8088', 'frc3545'], 'surrogate_team_keys': [], 'dq_team_keys': ['frc5986']}\n",
      "WARNING:Gather TBA:A match had dq teams.  Not sure what to do with this.  Match: 5\n",
      "DEBUG:Gather TBA:{'score': 19, 'team_keys': ['frc5986', 'frc8879', 'frc2789'], 'surrogate_team_keys': [], 'dq_team_keys': ['frc5986']}\n",
      "DEBUG:Gather TBA:{'score': 34, 'team_keys': ['frc8610', 'frc8818', 'frc2158'], 'surrogate_team_keys': [], 'dq_team_keys': []}\n",
      "WARNING:Gather TBA:A match had dq teams.  Not sure what to do with this.  Match: 56\n",
      "DEBUG:Gather TBA:{'score': 26, 'team_keys': ['frc5103', 'frc5572', 'frc8818'], 'surrogate_team_keys': [], 'dq_team_keys': ['frc8818']}\n",
      "DEBUG:Gather TBA:{'score': 26, 'team_keys': ['frc3545', 'frc3561', 'frc7312'], 'surrogate_team_keys': [], 'dq_team_keys': []}\n",
      "WARNING:Gather TBA:A match had dq teams.  Not sure what to do with this.  Match: 9\n",
      "DEBUG:Gather TBA:{'score': 25, 'team_keys': ['frc2468', 'frc8610', 'frc5986'], 'surrogate_team_keys': [], 'dq_team_keys': ['frc5986']}\n",
      "DEBUG:Gather TBA:{'score': 8, 'team_keys': ['frc8879', 'frc3545', 'frc2583'], 'surrogate_team_keys': [], 'dq_team_keys': []}\n",
      "WARNING:Gather TBA:A match had dq teams.  Not sure what to do with this.  Match: 43\n",
      "DEBUG:Gather TBA:{'score': 66, 'team_keys': ['frc1296', 'frc7540', 'frc7091'], 'surrogate_team_keys': [], 'dq_team_keys': ['frc1296']}\n",
      "DEBUG:Gather TBA:{'score': 32, 'team_keys': ['frc7119', 'frc8842', 'frc7506'], 'surrogate_team_keys': [], 'dq_team_keys': []}\n",
      "WARNING:Gather TBA:A match had dq teams.  Not sure what to do with this.  Match: 1\n",
      "DEBUG:Gather TBA:{'score': 17, 'team_keys': ['frc5414', 'frc418', 'frc7418'], 'surrogate_team_keys': [], 'dq_team_keys': []}\n",
      "DEBUG:Gather TBA:{'score': 49, 'team_keys': ['frc8177', 'frc5261', 'frc5923'], 'surrogate_team_keys': [], 'dq_team_keys': ['frc5923']}\n",
      "WARNING:Gather TBA:A match had dq teams.  Not sure what to do with this.  Match: 44\n",
      "DEBUG:Gather TBA:{'score': 15, 'team_keys': ['frc7115', 'frc418', 'frc4597'], 'surrogate_team_keys': [], 'dq_team_keys': ['frc7115']}\n",
      "DEBUG:Gather TBA:{'score': 52, 'team_keys': ['frc5892', 'frc5923', 'frc4639'], 'surrogate_team_keys': [], 'dq_team_keys': []}\n",
      "WARNING:Gather TBA:A match had dq teams.  Not sure what to do with this.  Match: 5\n",
      "DEBUG:Gather TBA:{'score': 18, 'team_keys': ['frc7492', 'frc4295', 'frc8576'], 'surrogate_team_keys': [], 'dq_team_keys': []}\n",
      "DEBUG:Gather TBA:{'score': 16, 'team_keys': ['frc7312', 'frc5682', 'frc3035'], 'surrogate_team_keys': [], 'dq_team_keys': ['frc7312', 'frc5682']}\n",
      "WARNING:Gather TBA:A match had dq teams.  Not sure what to do with this.  Match: 6\n",
      "DEBUG:Gather TBA:{'score': 14, 'team_keys': ['frc1523', 'frc1744', 'frc1592'], 'surrogate_team_keys': [], 'dq_team_keys': ['frc1592']}\n",
      "DEBUG:Gather TBA:{'score': 37, 'team_keys': ['frc2383', 'frc7403', 'frc2183'], 'surrogate_team_keys': [], 'dq_team_keys': []}\n",
      "WARNING:Gather TBA:A match had dq teams.  Not sure what to do with this.  Match: 9\n",
      "DEBUG:Gather TBA:{'score': 30, 'team_keys': ['frc5472', 'frc21', 'frc7442'], 'surrogate_team_keys': [], 'dq_team_keys': []}\n",
      "DEBUG:Gather TBA:{'score': 24, 'team_keys': ['frc3932', 'frc1592', 'frc8754'], 'surrogate_team_keys': [], 'dq_team_keys': ['frc1592']}\n",
      "WARNING:Gather TBA:A match had dq teams.  Not sure what to do with this.  Match: 13\n",
      "DEBUG:Gather TBA:{'score': 11, 'team_keys': ['frc8710', 'frc3802', 'frc8769'], 'surrogate_team_keys': [], 'dq_team_keys': ['frc8710']}\n",
      "DEBUG:Gather TBA:{'score': 6, 'team_keys': ['frc8405', 'frc5417', 'frc5908'], 'surrogate_team_keys': [], 'dq_team_keys': []}\n",
      "WARNING:Gather TBA:A match had dq teams.  Not sure what to do with this.  Match: 2\n",
      "DEBUG:Gather TBA:{'score': 21, 'team_keys': ['frc5212', 'frc3029', 'frc8405'], 'surrogate_team_keys': [], 'dq_team_keys': ['frc8405']}\n",
      "DEBUG:Gather TBA:{'score': 32, 'team_keys': ['frc2969', 'frc6377', 'frc1477'], 'surrogate_team_keys': [], 'dq_team_keys': []}\n",
      "WARNING:Gather TBA:A match had dq teams.  Not sure what to do with this.  Match: 22\n",
      "DEBUG:Gather TBA:{'score': 4, 'team_keys': ['frc2714', 'frc5212', 'frc624'], 'surrogate_team_keys': [], 'dq_team_keys': []}\n",
      "DEBUG:Gather TBA:{'score': 8, 'team_keys': ['frc8710', 'frc7125', 'frc7121'], 'surrogate_team_keys': [], 'dq_team_keys': ['frc8710']}\n",
      "WARNING:Gather TBA:A match had dq teams.  Not sure what to do with this.  Match: 56\n",
      "DEBUG:Gather TBA:{'score': 42, 'team_keys': ['frc6171', 'frc7121', 'frc6768'], 'surrogate_team_keys': [], 'dq_team_keys': []}\n",
      "DEBUG:Gather TBA:{'score': 47, 'team_keys': ['frc5431', 'frc5242', 'frc5682'], 'surrogate_team_keys': [], 'dq_team_keys': ['frc5242']}\n"
     ]
    }
   ],
   "source": [
    "%run ./gather_tba_data.py"
   ]
  },
  {
   "cell_type": "markdown",
   "id": "933627fd-c626-4baf-bcc4-3744a3bdf1a7",
   "metadata": {},
   "source": [
    "## Combine Match Data from Scouting with The Blue Alliance\n",
    "\n",
    "Combine the scouting information in the app with the climb score from The Blue Alliance.\n",
    "Use the combined information to create a scouting score, inspired by Spamlytics http://bit.ly/SPAMalytics2022\n",
    "summarize the information per team for the entire event.\n",
    "Save combined dataframes as csv's for future use.\n"
   ]
  },
  {
   "cell_type": "code",
   "execution_count": 10,
   "id": "10e1a388-b9cf-40ce-8c53-07fac7248c99",
   "metadata": {},
   "outputs": [
    {
     "name": "stdout",
     "output_type": "stream",
     "text": [
      "DEBUG:Combine_Data:Scouting without tba:\n"
     ]
    }
   ],
   "source": [
    "%run ./combine_data.py"
   ]
  },
  {
   "cell_type": "code",
   "execution_count": null,
   "id": "21a3fb6b-4761-4d30-869b-691ed38c59a9",
   "metadata": {},
   "outputs": [],
   "source": []
  },
  {
   "cell_type": "code",
   "execution_count": null,
   "id": "8db8c088-7500-4a93-a0f5-116daa618eca",
   "metadata": {},
   "outputs": [],
   "source": []
  }
 ],
 "metadata": {
  "kernelspec": {
   "display_name": "Python 3 (ipykernel)",
   "language": "python",
   "name": "python3"
  },
  "language_info": {
   "codemirror_mode": {
    "name": "ipython",
    "version": 3
   },
   "file_extension": ".py",
   "mimetype": "text/x-python",
   "name": "python",
   "nbconvert_exporter": "python",
   "pygments_lexer": "ipython3",
   "version": "3.10.2"
  }
 },
 "nbformat": 4,
 "nbformat_minor": 5
}
