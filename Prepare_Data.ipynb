{
 "cells": [
  {
   "cell_type": "markdown",
   "id": "90a7451c-f187-464f-9d56-a98335cc6fc9",
   "metadata": {},
   "source": [
    "# Data Preparation\n",
    "\n",
    "Run all data gathering steps through standalone python scripts in order to prepare for analysis\n",
    "\n",
    "With each step in it's own notebook cell, one can be judicious about which data processing is done at which time. \n",
    "\n",
    "*For example, if wifi is not enabled, you can skip attempting to contact the blue alliance.*"
   ]
  },
  {
   "cell_type": "code",
   "execution_count": 1,
   "id": "012ede6f-b472-475a-bd1d-a072916b3386",
   "metadata": {},
   "outputs": [],
   "source": [
    "import logging\n",
    "import sys\n",
    "logging.basicConfig(stream=sys.stdout, level=logging.DEBUG)"
   ]
  },
  {
   "cell_type": "markdown",
   "id": "69f26394-2e18-4a3b-bab6-aa77cf4fdfcd",
   "metadata": {},
   "source": [
    "## Process App Data\n",
    "Read and process all data gathered from the ScoutingRadar App for matches.\n",
    "Store it in ./data for further processing"
   ]
  },
  {
   "cell_type": "code",
   "execution_count": 2,
   "id": "35bfcf79-c007-4240-a2b9-1bee2e905bf8",
   "metadata": {},
   "outputs": [],
   "source": [
    "%run ./process_app_data.py"
   ]
  },
  {
   "cell_type": "markdown",
   "id": "0e789093-5a7b-4da6-bfe4-bd7e24b87317",
   "metadata": {},
   "source": [
    "## Process The Blue Alliance Data\n",
    "\n",
    "Read and process all data from the event gathered from the blue alliance."
   ]
  },
  {
   "cell_type": "code",
   "execution_count": 3,
   "id": "04bc0e83-3a5c-4ab6-adc9-b7060953ec89",
   "metadata": {},
   "outputs": [
    {
     "name": "stdout",
     "output_type": "stream",
     "text": [
      "WARNING:Gather TBA:A match had dq teams.  Not sure what to do with this.  Match: 18\n",
      "DEBUG:Gather TBA:{'score': 62, 'team_keys': ['frc4219', 'frc5986', 'frc2881'], 'surrogate_team_keys': [], 'dq_team_keys': ['frc5986']}\n",
      "DEBUG:Gather TBA:{'score': 55, 'team_keys': ['frc5572', 'frc8573', 'frc6377'], 'surrogate_team_keys': [], 'dq_team_keys': []}\n",
      "WARNING:Gather TBA:A match had dq teams.  Not sure what to do with this.  Match: 23\n",
      "DEBUG:Gather TBA:{'score': 18, 'team_keys': ['frc8818', 'frc5726', 'frc8879'], 'surrogate_team_keys': [], 'dq_team_keys': []}\n",
      "DEBUG:Gather TBA:{'score': 36, 'team_keys': ['frc3679', 'frc5572', 'frc5986'], 'surrogate_team_keys': [], 'dq_team_keys': ['frc5986']}\n",
      "WARNING:Gather TBA:A match had dq teams.  Not sure what to do with this.  Match: 27\n",
      "DEBUG:Gather TBA:{'score': 40, 'team_keys': ['frc8573', 'frc7088', 'frc3679'], 'surrogate_team_keys': [], 'dq_team_keys': []}\n",
      "DEBUG:Gather TBA:{'score': 24, 'team_keys': ['frc5986', 'frc8088', 'frc3545'], 'surrogate_team_keys': [], 'dq_team_keys': ['frc5986']}\n",
      "WARNING:Gather TBA:A match had dq teams.  Not sure what to do with this.  Match: 5\n",
      "DEBUG:Gather TBA:{'score': 19, 'team_keys': ['frc5986', 'frc8879', 'frc2789'], 'surrogate_team_keys': [], 'dq_team_keys': ['frc5986']}\n",
      "DEBUG:Gather TBA:{'score': 34, 'team_keys': ['frc8610', 'frc8818', 'frc2158'], 'surrogate_team_keys': [], 'dq_team_keys': []}\n",
      "WARNING:Gather TBA:A match had dq teams.  Not sure what to do with this.  Match: 56\n",
      "DEBUG:Gather TBA:{'score': 26, 'team_keys': ['frc5103', 'frc5572', 'frc8818'], 'surrogate_team_keys': [], 'dq_team_keys': ['frc8818']}\n",
      "DEBUG:Gather TBA:{'score': 26, 'team_keys': ['frc3545', 'frc3561', 'frc7312'], 'surrogate_team_keys': [], 'dq_team_keys': []}\n",
      "WARNING:Gather TBA:A match had dq teams.  Not sure what to do with this.  Match: 9\n",
      "DEBUG:Gather TBA:{'score': 25, 'team_keys': ['frc2468', 'frc8610', 'frc5986'], 'surrogate_team_keys': [], 'dq_team_keys': ['frc5986']}\n",
      "DEBUG:Gather TBA:{'score': 8, 'team_keys': ['frc8879', 'frc3545', 'frc2583'], 'surrogate_team_keys': [], 'dq_team_keys': []}\n"
     ]
    }
   ],
   "source": [
    "%run ./gather_tba_data.py"
   ]
  },
  {
   "cell_type": "markdown",
   "id": "933627fd-c626-4baf-bcc4-3744a3bdf1a7",
   "metadata": {},
   "source": [
    "## Combine Match Data from Scouting with The Blue Alliance\n",
    "\n",
    "Combine the scouting information in the app with the climb score from The Blue Alliance.\n",
    "Use the combined information to create a scouting score, inspired by Spamlytics http://bit.ly/SPAMalytics2022\n",
    "summarize the information per team for the entire event.\n",
    "Save combined dataframes as csv's for future use.\n"
   ]
  },
  {
   "cell_type": "code",
   "execution_count": 7,
   "id": "10e1a388-b9cf-40ce-8c53-07fac7248c99",
   "metadata": {},
   "outputs": [
    {
     "name": "stdout",
     "output_type": "stream",
     "text": [
      "DEBUG:Combine_Data:Scouting without tba:\n",
      "DEBUG:Combine_Data:     match post_result_time predicted_time  team climb  fouls  techfouls  \\\n",
      "432    457              NaN            NaN   457   NaN    NaN        NaN   \n",
      "433     62              NaN            NaN  2583   NaN    NaN        NaN   \n",
      "434     62              NaN            NaN  2696   NaN    NaN        NaN   \n",
      "435     58              NaN            NaN  2969   NaN    NaN        NaN   \n",
      "436     47              NaN            NaN  4279   NaN    NaN        NaN   \n",
      "437     45              NaN            NaN  7088   NaN    NaN        NaN   \n",
      "438     61              NaN            NaN  7312   NaN    NaN        NaN   \n",
      "439     36              NaN            NaN  8573   NaN    NaN        NaN   \n",
      "440     64              NaN            NaN  8573   NaN    NaN        NaN   \n",
      "441     10              NaN            NaN  8774   NaN    NaN        NaN   \n",
      "442     44              NaN            NaN  8819   NaN    NaN        NaN   \n",
      "443     46              NaN            NaN  8819   NaN    NaN        NaN   \n",
      "\n",
      "    alliance  lower_hub_auto  lower_hub_teleop  miss_auto  miss_teleop  \\\n",
      "432      NaN             0.0               0.0        0.0          0.0   \n",
      "433      NaN             0.0               0.0        0.0          1.0   \n",
      "434      NaN             0.0              11.0        0.0          1.0   \n",
      "435      NaN             0.0               2.0        0.0          1.0   \n",
      "436      NaN             0.0               0.0        0.0          5.0   \n",
      "437      NaN             0.0               0.0        0.0          0.0   \n",
      "438      NaN             0.0               0.0        1.0          2.0   \n",
      "439      NaN             1.0               2.0        0.0          1.0   \n",
      "440      NaN             0.0               2.0        0.0          0.0   \n",
      "441      NaN             0.0               6.0        1.0          0.0   \n",
      "442      NaN             0.0               0.0        0.0          0.0   \n",
      "443      NaN             0.0               0.0        0.0          3.0   \n",
      "\n",
      "     start_climb_auto  start_climb_teleop  taxi_auto  taxi_teleop  \\\n",
      "432               0.0                 1.0        1.0          0.0   \n",
      "433               0.0                 0.0        1.0          0.0   \n",
      "434               0.0                 0.0        0.0          1.0   \n",
      "435               0.0                 1.0        1.0          0.0   \n",
      "436               0.0                 1.0        1.0          0.0   \n",
      "437               0.0                 1.0        1.0          0.0   \n",
      "438               0.0                 0.0        1.0          0.0   \n",
      "439               0.0                 1.0        1.0          0.0   \n",
      "440               0.0                 1.0        1.0          0.0   \n",
      "441               0.0                 2.0        0.0          0.0   \n",
      "442               0.0                 1.0        0.0          0.0   \n",
      "443               0.0                 1.0        1.0          0.0   \n",
      "\n",
      "     upper_hub_auto  upper_hub_teleop is_red  Notes  \n",
      "432             0.0               0.0      F    NaN  \n",
      "433             0.0               0.0      T    NaN  \n",
      "434             0.0               0.0      F    NaN  \n",
      "435             0.0               0.0      F    NaN  \n",
      "436             1.0               7.0      F    NaN  \n",
      "437             0.0               0.0      F    NaN  \n",
      "438             0.0               0.0      T    NaN  \n",
      "439             0.0               1.0      F    NaN  \n",
      "440             1.0               0.0      T    NaN  \n",
      "441             0.0               0.0      F    NaN  \n",
      "442             0.0               0.0      T    NaN  \n",
      "443             4.0               8.0      T    NaN  \n"
     ]
    }
   ],
   "source": [
    "%run ./combine_data.py"
   ]
  },
  {
   "cell_type": "code",
   "execution_count": null,
   "id": "21a3fb6b-4761-4d30-869b-691ed38c59a9",
   "metadata": {},
   "outputs": [],
   "source": []
  },
  {
   "cell_type": "code",
   "execution_count": null,
   "id": "8db8c088-7500-4a93-a0f5-116daa618eca",
   "metadata": {},
   "outputs": [],
   "source": []
  }
 ],
 "metadata": {
  "kernelspec": {
   "display_name": "Python 3 (ipykernel)",
   "language": "python",
   "name": "python3"
  },
  "language_info": {
   "codemirror_mode": {
    "name": "ipython",
    "version": 3
   },
   "file_extension": ".py",
   "mimetype": "text/x-python",
   "name": "python",
   "nbconvert_exporter": "python",
   "pygments_lexer": "ipython3",
   "version": "3.10.2"
  }
 },
 "nbformat": 4,
 "nbformat_minor": 5
}
