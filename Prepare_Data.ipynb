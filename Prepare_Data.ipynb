{
 "cells": [
  {
   "cell_type": "markdown",
   "id": "90a7451c-f187-464f-9d56-a98335cc6fc9",
   "metadata": {},
   "source": [
    "# Data Preparation\n",
    "\n",
    "Run all data gathering steps through standalone python scripts in order to prepare for analysis\n",
    "\n",
    "With each step in it's own notebook cell, one can be judicious about which data processing is done at which time. \n",
    "\n",
    "*For example, if wifi is not enabled, you can skip attempting to contact the blue alliance.*"
   ]
  },
  {
   "cell_type": "code",
   "execution_count": 1,
   "id": "012ede6f-b472-475a-bd1d-a072916b3386",
   "metadata": {},
   "outputs": [],
   "source": [
    "import logging\n",
    "import sys\n",
    "logging.basicConfig(stream=sys.stdout, level=logging.DEBUG)"
   ]
  },
  {
   "cell_type": "markdown",
   "id": "69f26394-2e18-4a3b-bab6-aa77cf4fdfcd",
   "metadata": {},
   "source": [
    "## Process App Data\n",
    "Read and process all data gathered from the ScoutingRadar App for matches.\n",
    "Store it in ./data for further processing"
   ]
  },
  {
   "cell_type": "code",
   "execution_count": 2,
   "id": "35bfcf79-c007-4240-a2b9-1bee2e905bf8",
   "metadata": {},
   "outputs": [],
   "source": [
    "%run ./process_app_data.py"
   ]
  },
  {
   "cell_type": "markdown",
   "id": "0e789093-5a7b-4da6-bfe4-bd7e24b87317",
   "metadata": {},
   "source": [
    "## Process The Blue Alliance Data\n",
    "\n",
    "Read and process all data from the event gathered from the blue alliance."
   ]
  },
  {
   "cell_type": "code",
   "execution_count": 8,
   "id": "04bc0e83-3a5c-4ab6-adc9-b7060953ec89",
   "metadata": {},
   "outputs": [],
   "source": [
    "%run ./gather_tba_data.py"
   ]
  },
  {
   "cell_type": "markdown",
   "id": "933627fd-c626-4baf-bcc4-3744a3bdf1a7",
   "metadata": {},
   "source": [
    "## Combine Match Data from Scouting with The Blue Alliance\n",
    "\n",
    "Combine the scouting information in the app with the climb score from The Blue Alliance.\n",
    "Use the combined information to create a scouting score, inspired by Spamlytics http://bit.ly/SPAMalytics2022\n",
    "summarize the information per team for the entire event.\n",
    "Save combined dataframes as csv's for future use.\n"
   ]
  },
  {
   "cell_type": "code",
   "execution_count": 9,
   "id": "10e1a388-b9cf-40ce-8c53-07fac7248c99",
   "metadata": {},
   "outputs": [
    {
     "name": "stdout",
     "output_type": "stream",
     "text": [
      "DEBUG:Combine_Data:Scouting without tba:\n",
      "DEBUG:Combine_Data:     match  post_result_time predicted_time  team climb  fouls  techfouls  \\\n",
      "456      6               NaN            NaN   457   NaN    NaN        NaN   \n",
      "457     14               NaN            NaN   457   NaN    NaN        NaN   \n",
      "458     19               NaN            NaN   457   NaN    NaN        NaN   \n",
      "459     36               NaN            NaN   457   NaN    NaN        NaN   \n",
      "460     40               NaN            NaN   457   NaN    NaN        NaN   \n",
      "..     ...               ...            ...   ...   ...    ...        ...   \n",
      "788     35               NaN            NaN  8879   NaN    NaN        NaN   \n",
      "789     39               NaN            NaN  8879   NaN    NaN        NaN   \n",
      "790     43               NaN            NaN  8879   NaN    NaN        NaN   \n",
      "791     60               NaN            NaN  8879   NaN    NaN        NaN   \n",
      "792     65               NaN            NaN  8879   NaN    NaN        NaN   \n",
      "\n",
      "    alliance  lower_hub_auto  lower_hub_teleop  miss_auto  miss_teleop  \\\n",
      "456      NaN             0.0               0.0        1.0          1.0   \n",
      "457      NaN             0.0               0.0        2.0          0.0   \n",
      "458      NaN             0.0               1.0        0.0          1.0   \n",
      "459      NaN             0.0               2.0        0.0          3.0   \n",
      "460      NaN             0.0               2.0        0.0          2.0   \n",
      "..       ...             ...               ...        ...          ...   \n",
      "788      NaN             0.0               0.0        0.0          2.0   \n",
      "789      NaN             1.0               7.0        0.0          5.0   \n",
      "790      NaN             0.0               3.0        0.0          7.0   \n",
      "791      NaN             0.0               8.0        1.0          2.0   \n",
      "792      NaN             1.0               7.0        0.0          2.0   \n",
      "\n",
      "     start_climb_auto  start_climb_teleop  taxi_auto  taxi_teleop  \\\n",
      "456               0.0                 1.0        1.0          0.0   \n",
      "457               0.0                 0.0        1.0          0.0   \n",
      "458               0.0                 0.0        1.0          0.0   \n",
      "459               0.0                 1.0        1.0          0.0   \n",
      "460               0.0                 1.0        1.0          0.0   \n",
      "..                ...                 ...        ...          ...   \n",
      "788               0.0                 0.0        1.0          0.0   \n",
      "789               0.0                 0.0        0.0          0.0   \n",
      "790               0.0                 1.0        1.0          0.0   \n",
      "791               0.0                 1.0        1.0          0.0   \n",
      "792               0.0                 1.0        1.0          0.0   \n",
      "\n",
      "     upper_hub_auto  upper_hub_teleop is_red  Notes  \n",
      "456             0.0               0.0      T    NaN  \n",
      "457             0.0               0.0      F    NaN  \n",
      "458             0.0               0.0      F    NaN  \n",
      "459             0.0               0.0      F    NaN  \n",
      "460             0.0               0.0      F    NaN  \n",
      "..              ...               ...    ...    ...  \n",
      "788             0.0               0.0      T    NaN  \n",
      "789             0.0               1.0      T    NaN  \n",
      "790             0.0               0.0      F    NaN  \n",
      "791             0.0               0.0      T    NaN  \n",
      "792             0.0               0.0      F    NaN  \n",
      "\n",
      "[337 rows x 20 columns]\n"
     ]
    },
    {
     "ename": "KeyError",
     "evalue": "\"['first_avg'] not in index\"",
     "output_type": "error",
     "traceback": [
      "\u001b[1;31m---------------------------------------------------------------------------\u001b[0m",
      "\u001b[1;31mKeyError\u001b[0m                                  Traceback (most recent call last)",
      "File \u001b[1;32m~\\Documents\\code\\Scouting Notebook\\combine_data.py:101\u001b[0m, in \u001b[0;36m<module>\u001b[1;34m\u001b[0m\n\u001b[0;32m     99\u001b[0m team_summary\u001b[38;5;241m=\u001b[39mteam_summary\u001b[38;5;241m.\u001b[39mmerge(prescouting, on\u001b[38;5;241m=\u001b[39m\u001b[38;5;124m'\u001b[39m\u001b[38;5;124mteam\u001b[39m\u001b[38;5;124m'\u001b[39m, how\u001b[38;5;241m=\u001b[39m\u001b[38;5;124m\"\u001b[39m\u001b[38;5;124mleft\u001b[39m\u001b[38;5;124m\"\u001b[39m)\n\u001b[0;32m    100\u001b[0m team_summary\u001b[38;5;241m.\u001b[39mrename(columns\u001b[38;5;241m=\u001b[39m{\u001b[38;5;124m'\u001b[39m\u001b[38;5;124mOPR\u001b[39m\u001b[38;5;124m'\u001b[39m: \u001b[38;5;124m'\u001b[39m\u001b[38;5;124mpre_oprs\u001b[39m\u001b[38;5;124m'\u001b[39m,\u001b[38;5;124m'\u001b[39m\u001b[38;5;124mClimb Points\u001b[39m\u001b[38;5;124m'\u001b[39m : \u001b[38;5;124m'\u001b[39m\u001b[38;5;124mpre_climb_points\u001b[39m\u001b[38;5;124m'\u001b[39m, \u001b[38;5;124m'\u001b[39m\u001b[38;5;124mDistrict Ranking\u001b[39m\u001b[38;5;124m'\u001b[39m : \u001b[38;5;124m'\u001b[39m\u001b[38;5;124mpre_district_rank\u001b[39m\u001b[38;5;124m'\u001b[39m, \u001b[38;5;124m'\u001b[39m\u001b[38;5;124mDistrict Points Earned\u001b[39m\u001b[38;5;124m'\u001b[39m : \u001b[38;5;124m'\u001b[39m\u001b[38;5;124mpre_district_points\u001b[39m\u001b[38;5;124m'\u001b[39m } , inplace\u001b[38;5;241m=\u001b[39m\u001b[38;5;28;01mTrue\u001b[39;00m)\n\u001b[1;32m--> 101\u001b[0m team_summary\u001b[38;5;241m=\u001b[39m\u001b[43mteam_summary\u001b[49m\u001b[43m[\u001b[49m\u001b[43m[\u001b[49m\u001b[38;5;124;43m'\u001b[39;49m\u001b[38;5;124;43mteam\u001b[39;49m\u001b[38;5;124;43m'\u001b[39;49m\u001b[43m,\u001b[49m\u001b[38;5;124;43m'\u001b[39;49m\u001b[38;5;124;43mmatches\u001b[39;49m\u001b[38;5;124;43m'\u001b[39;49m\u001b[43m,\u001b[49m\u001b[38;5;124;43m'\u001b[39;49m\u001b[38;5;124;43mscouted_matches\u001b[39;49m\u001b[38;5;124;43m'\u001b[39;49m\u001b[43m,\u001b[49m\u001b[38;5;124;43m'\u001b[39;49m\u001b[38;5;124;43mscouting_points_avg\u001b[39;49m\u001b[38;5;124;43m'\u001b[39;49m\u001b[43m,\u001b[49m\u001b[43m \u001b[49m\u001b[38;5;124;43m'\u001b[39;49m\u001b[38;5;124;43mfirst_avg\u001b[39;49m\u001b[38;5;124;43m'\u001b[39;49m\u001b[43m,\u001b[49m\u001b[38;5;124;43m'\u001b[39;49m\u001b[38;5;124;43mlast_avg\u001b[39;49m\u001b[38;5;124;43m'\u001b[39;49m\u001b[43m,\u001b[49m\u001b[38;5;124;43m'\u001b[39;49m\u001b[38;5;124;43mclimb_success_pct\u001b[39;49m\u001b[38;5;124;43m'\u001b[39;49m\u001b[43m,\u001b[49m\u001b[38;5;124;43m'\u001b[39;49m\u001b[38;5;124;43mclimb_failure_pct\u001b[39;49m\u001b[38;5;124;43m'\u001b[39;49m\u001b[43m,\u001b[49m\u001b[38;5;124;43m'\u001b[39;49m\u001b[38;5;124;43mtotal_cargo_avg\u001b[39;49m\u001b[38;5;124;43m'\u001b[39;49m\u001b[43m,\u001b[49m\n\u001b[0;32m    102\u001b[0m \u001b[43m                           \u001b[49m\u001b[38;5;124;43m'\u001b[39;49m\u001b[38;5;124;43mauto_cargo_avg\u001b[39;49m\u001b[38;5;124;43m'\u001b[39;49m\u001b[43m,\u001b[49m\u001b[38;5;124;43m'\u001b[39;49m\u001b[38;5;124;43mteleop_cargo_avg\u001b[39;49m\u001b[38;5;124;43m'\u001b[39;49m\u001b[43m,\u001b[49m\u001b[38;5;124;43m'\u001b[39;49m\u001b[38;5;124;43mclimb_points_avg\u001b[39;49m\u001b[38;5;124;43m'\u001b[39;49m\u001b[43m,\u001b[49m\u001b[38;5;124;43m'\u001b[39;49m\u001b[38;5;124;43mhighest_endgame_position\u001b[39;49m\u001b[38;5;124;43m'\u001b[39;49m\u001b[43m,\u001b[49m\u001b[38;5;124;43m'\u001b[39;49m\u001b[38;5;124;43moprs\u001b[39;49m\u001b[38;5;124;43m'\u001b[39;49m\u001b[43m,\u001b[49m\u001b[38;5;124;43m'\u001b[39;49m\u001b[38;5;124;43mpre_oprs\u001b[39;49m\u001b[38;5;124;43m'\u001b[39;49m\u001b[43m,\u001b[49m\u001b[43m \u001b[49m\u001b[38;5;124;43m'\u001b[39;49m\u001b[38;5;124;43mpre_climb_points\u001b[39;49m\u001b[38;5;124;43m'\u001b[39;49m\u001b[43m,\u001b[49m\u001b[43m \u001b[49m\u001b[38;5;124;43m'\u001b[39;49m\u001b[38;5;124;43mpre_district_rank\u001b[39;49m\u001b[38;5;124;43m'\u001b[39;49m\u001b[43m,\u001b[49m\u001b[43m \u001b[49m\u001b[38;5;124;43m'\u001b[39;49m\u001b[38;5;124;43mpre_district_points\u001b[39;49m\u001b[38;5;124;43m'\u001b[39;49m\u001b[43m \u001b[49m\u001b[43m]\u001b[49m\u001b[43m]\u001b[49m\n\u001b[0;32m    103\u001b[0m team_summary\u001b[38;5;241m.\u001b[39mto_csv(\u001b[38;5;124m\"\u001b[39m\u001b[38;5;124m./data/team_summary.csv\u001b[39m\u001b[38;5;124m\"\u001b[39m)\n",
      "File \u001b[1;32m~\\AppData\\Local\\Programs\\Python\\Python310\\lib\\site-packages\\pandas\\core\\frame.py:3511\u001b[0m, in \u001b[0;36mDataFrame.__getitem__\u001b[1;34m(self, key)\u001b[0m\n\u001b[0;32m   3509\u001b[0m     \u001b[38;5;28;01mif\u001b[39;00m is_iterator(key):\n\u001b[0;32m   3510\u001b[0m         key \u001b[38;5;241m=\u001b[39m \u001b[38;5;28mlist\u001b[39m(key)\n\u001b[1;32m-> 3511\u001b[0m     indexer \u001b[38;5;241m=\u001b[39m \u001b[38;5;28;43mself\u001b[39;49m\u001b[38;5;241;43m.\u001b[39;49m\u001b[43mcolumns\u001b[49m\u001b[38;5;241;43m.\u001b[39;49m\u001b[43m_get_indexer_strict\u001b[49m\u001b[43m(\u001b[49m\u001b[43mkey\u001b[49m\u001b[43m,\u001b[49m\u001b[43m \u001b[49m\u001b[38;5;124;43m\"\u001b[39;49m\u001b[38;5;124;43mcolumns\u001b[39;49m\u001b[38;5;124;43m\"\u001b[39;49m\u001b[43m)\u001b[49m[\u001b[38;5;241m1\u001b[39m]\n\u001b[0;32m   3513\u001b[0m \u001b[38;5;66;03m# take() does not accept boolean indexers\u001b[39;00m\n\u001b[0;32m   3514\u001b[0m \u001b[38;5;28;01mif\u001b[39;00m \u001b[38;5;28mgetattr\u001b[39m(indexer, \u001b[38;5;124m\"\u001b[39m\u001b[38;5;124mdtype\u001b[39m\u001b[38;5;124m\"\u001b[39m, \u001b[38;5;28;01mNone\u001b[39;00m) \u001b[38;5;241m==\u001b[39m \u001b[38;5;28mbool\u001b[39m:\n",
      "File \u001b[1;32m~\\AppData\\Local\\Programs\\Python\\Python310\\lib\\site-packages\\pandas\\core\\indexes\\base.py:5782\u001b[0m, in \u001b[0;36mIndex._get_indexer_strict\u001b[1;34m(self, key, axis_name)\u001b[0m\n\u001b[0;32m   5779\u001b[0m \u001b[38;5;28;01melse\u001b[39;00m:\n\u001b[0;32m   5780\u001b[0m     keyarr, indexer, new_indexer \u001b[38;5;241m=\u001b[39m \u001b[38;5;28mself\u001b[39m\u001b[38;5;241m.\u001b[39m_reindex_non_unique(keyarr)\n\u001b[1;32m-> 5782\u001b[0m \u001b[38;5;28;43mself\u001b[39;49m\u001b[38;5;241;43m.\u001b[39;49m\u001b[43m_raise_if_missing\u001b[49m\u001b[43m(\u001b[49m\u001b[43mkeyarr\u001b[49m\u001b[43m,\u001b[49m\u001b[43m \u001b[49m\u001b[43mindexer\u001b[49m\u001b[43m,\u001b[49m\u001b[43m \u001b[49m\u001b[43maxis_name\u001b[49m\u001b[43m)\u001b[49m\n\u001b[0;32m   5784\u001b[0m keyarr \u001b[38;5;241m=\u001b[39m \u001b[38;5;28mself\u001b[39m\u001b[38;5;241m.\u001b[39mtake(indexer)\n\u001b[0;32m   5785\u001b[0m \u001b[38;5;28;01mif\u001b[39;00m \u001b[38;5;28misinstance\u001b[39m(key, Index):\n\u001b[0;32m   5786\u001b[0m     \u001b[38;5;66;03m# GH 42790 - Preserve name from an Index\u001b[39;00m\n",
      "File \u001b[1;32m~\\AppData\\Local\\Programs\\Python\\Python310\\lib\\site-packages\\pandas\\core\\indexes\\base.py:5845\u001b[0m, in \u001b[0;36mIndex._raise_if_missing\u001b[1;34m(self, key, indexer, axis_name)\u001b[0m\n\u001b[0;32m   5842\u001b[0m     \u001b[38;5;28;01mraise\u001b[39;00m \u001b[38;5;167;01mKeyError\u001b[39;00m(\u001b[38;5;124mf\u001b[39m\u001b[38;5;124m\"\u001b[39m\u001b[38;5;124mNone of [\u001b[39m\u001b[38;5;132;01m{\u001b[39;00mkey\u001b[38;5;132;01m}\u001b[39;00m\u001b[38;5;124m] are in the [\u001b[39m\u001b[38;5;132;01m{\u001b[39;00maxis_name\u001b[38;5;132;01m}\u001b[39;00m\u001b[38;5;124m]\u001b[39m\u001b[38;5;124m\"\u001b[39m)\n\u001b[0;32m   5844\u001b[0m not_found \u001b[38;5;241m=\u001b[39m \u001b[38;5;28mlist\u001b[39m(ensure_index(key)[missing_mask\u001b[38;5;241m.\u001b[39mnonzero()[\u001b[38;5;241m0\u001b[39m]]\u001b[38;5;241m.\u001b[39munique())\n\u001b[1;32m-> 5845\u001b[0m \u001b[38;5;28;01mraise\u001b[39;00m \u001b[38;5;167;01mKeyError\u001b[39;00m(\u001b[38;5;124mf\u001b[39m\u001b[38;5;124m\"\u001b[39m\u001b[38;5;132;01m{\u001b[39;00mnot_found\u001b[38;5;132;01m}\u001b[39;00m\u001b[38;5;124m not in index\u001b[39m\u001b[38;5;124m\"\u001b[39m)\n",
      "\u001b[1;31mKeyError\u001b[0m: \"['first_avg'] not in index\""
     ]
    }
   ],
   "source": [
    "%run ./combine_data.py"
   ]
  },
  {
   "cell_type": "code",
   "execution_count": null,
   "id": "21a3fb6b-4761-4d30-869b-691ed38c59a9",
   "metadata": {},
   "outputs": [],
   "source": []
  },
  {
   "cell_type": "code",
   "execution_count": null,
   "id": "8db8c088-7500-4a93-a0f5-116daa618eca",
   "metadata": {},
   "outputs": [],
   "source": []
  }
 ],
 "metadata": {
  "kernelspec": {
   "display_name": "Python 3 (ipykernel)",
   "language": "python",
   "name": "python3"
  },
  "language_info": {
   "codemirror_mode": {
    "name": "ipython",
    "version": 3
   },
   "file_extension": ".py",
   "mimetype": "text/x-python",
   "name": "python",
   "nbconvert_exporter": "python",
   "pygments_lexer": "ipython3",
   "version": "3.10.2"
  }
 },
 "nbformat": 4,
 "nbformat_minor": 5
}
